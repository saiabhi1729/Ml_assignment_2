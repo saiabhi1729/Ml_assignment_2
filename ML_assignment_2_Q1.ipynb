{
 "cells": [
  {
   "cell_type": "code",
   "execution_count": null,
   "id": "96e1f055-9ac5-499d-aa0e-71b9eef9ef60",
   "metadata": {},
   "outputs": [],
   "source": [
    "#importing the required libraries to work with Tabular data and also to implement algorithms\n",
    "\n",
    "import warnings\n",
    "import numpy as np\n",
    "import pandas as pd\n",
    "#import seaborn as sns\n",
    "from sklearn import preprocessing\n",
    "import matplotlib.pyplot as plt\n",
    "from sklearn.naive_bayes import GaussianNB\n",
    "from sklearn.model_selection import train_test_split\n",
    "from sklearn.metrics import accuracy_score, recall_score, precision_score, classification_report, confusion_matrix\n",
    "warnings.filterwarnings(\"ignore\")"
   ]
  },
  {
   "cell_type": "code",
   "execution_count": null,
   "id": "eda81566",
   "metadata": {},
   "outputs": [],
   "source": [
    "#Read the provided CSV file ‘data.csv’.\n",
    "df = pd.read_csv('data.csv')     #reading csv file\n",
    "df"
   ]
  },
  {
   "cell_type": "code",
   "execution_count": null,
   "id": "fc0250ff",
   "metadata": {},
   "outputs": [],
   "source": [
    "#Show the basic statistical description about the data.\n",
    "\n",
    "df.describe()   #describe() results statistical description of data in data frame"
   ]
  },
  {
   "cell_type": "code",
   "execution_count": null,
   "id": "dbdf7ddb",
   "metadata": {},
   "outputs": [],
   "source": [
    "#Check if the data has null values.\n",
    "\n",
    "df.isnull().any()  #check any column has null values"
   ]
  },
  {
   "cell_type": "code",
   "execution_count": null,
   "id": "b3b77d1f",
   "metadata": {},
   "outputs": [],
   "source": [
    "#Replace the null values with the mean\n",
    "\n",
    "mean=df['Calories'].mean()\n",
    "df['Calories'].fillna(value=mean, inplace=True)  #replacing Nan values with particular columns mean value"
   ]
  },
  {
   "cell_type": "code",
   "execution_count": null,
   "id": "17d72101",
   "metadata": {},
   "outputs": [],
   "source": [
    "df.isnull().any()"
   ]
  },
  {
   "cell_type": "code",
   "execution_count": null,
   "id": "6b724998",
   "metadata": {},
   "outputs": [],
   "source": [
    "#Select at least two columns and aggregate the data using: min, max, count, mean.\n",
    "\n",
    "df.agg({'Pulse' : ['min', 'max', 'count', 'mean'], 'Maxpulse' : ['min', 'max', 'count', 'mean'], \n",
    "        'Calories' : ['min', 'max', 'count', 'mean'] })\n",
    "#agg method to aggreate operation on the dataframe"
   ]
  },
  {
   "cell_type": "code",
   "execution_count": null,
   "id": "78c7e729",
   "metadata": {},
   "outputs": [],
   "source": [
    "#Filter the dataframe to select the rows with calories values between 500 and 1000. \n",
    "\n",
    "df[(df['Calories'] > 500) & (df['Calories'] < 1000)]   #'&' operator to filter the dataframe"
   ]
  },
  {
   "cell_type": "code",
   "execution_count": null,
   "id": "2ca4d1d3",
   "metadata": {},
   "outputs": [],
   "source": [
    "#Filter the dataframe to select the rows with calories values > 500 and pulse < 100.\n",
    "\n",
    "df[(df['Calories'] > 500) & (df['Pulse'] < 100)]   # '&' operator is used to filter the data "
   ]
  },
  {
   "cell_type": "code",
   "execution_count": null,
   "id": "3a875da9",
   "metadata": {},
   "outputs": [],
   "source": [
    "#Create a new “df_modified” dataframe that contains all the columns from df except for “Maxpulse”.\n",
    "\n",
    "df_modified = df[['Duration', 'Pulse', 'Calories']].copy()  #copy method to create an another data frome with specified columns from the original dataframe.\n",
    "df_modified"
   ]
  },
  {
   "cell_type": "code",
   "execution_count": null,
   "id": "5b10c633",
   "metadata": {},
   "outputs": [],
   "source": [
    "# Delete the “Maxpulse” column from the main df dataframe\n",
    "\n",
    "df.pop('Maxpulse')   #pop method to remove a column from the data frame\n",
    "df"
   ]
  },
  {
   "cell_type": "code",
   "execution_count": null,
   "id": "cd6c1c35",
   "metadata": {},
   "outputs": [],
   "source": [
    "df.dtypes"
   ]
  },
  {
   "cell_type": "code",
   "execution_count": null,
   "id": "7b408627",
   "metadata": {},
   "outputs": [],
   "source": [
    "#Convert the datatype of Calories column to int datatype.\n",
    "\n",
    "df['Calories'] = df['Calories'].astype(int)  #astype function converts one data type into another\n",
    "df.dtypes"
   ]
  },
  {
   "cell_type": "code",
   "execution_count": null,
   "id": "be1042d9",
   "metadata": {},
   "outputs": [],
   "source": [
    "#Using pandas create a scatter plot for the two columns (Duration and Calories).\n",
    "df.plot.scatter(x='Duration', y='Calories')"
   ]
  },
  {
   "cell_type": "code",
   "execution_count": null,
   "id": "89c45b4c-33d7-46b5-9de1-beeea5aa6214",
   "metadata": {},
   "outputs": [],
   "source": []
  }
 ],
 "metadata": {
  "kernelspec": {
   "display_name": "Python 3 (ipykernel)",
   "language": "python",
   "name": "python3"
  },
  "language_info": {
   "codemirror_mode": {
    "name": "ipython",
    "version": 3
   },
   "file_extension": ".py",
   "mimetype": "text/x-python",
   "name": "python",
   "nbconvert_exporter": "python",
   "pygments_lexer": "ipython3",
   "version": "3.10.9"
  }
 },
 "nbformat": 4,
 "nbformat_minor": 5
}
